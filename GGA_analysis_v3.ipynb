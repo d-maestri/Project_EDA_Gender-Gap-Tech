{
 "cells": [
  {
   "cell_type": "markdown",
   "id": "2e00bbdc",
   "metadata": {},
   "source": [
    "# Gender Gap Analysis in Data Science and Machine Learning"
   ]
  },
  {
   "cell_type": "markdown",
   "id": "dd2d9a60",
   "metadata": {},
   "source": [
    "## Environment Setup"
   ]
  },
  {
   "cell_type": "code",
   "execution_count": 1,
   "id": "78e9ea2d",
   "metadata": {},
   "outputs": [],
   "source": [
    "### Import Libraries\n",
    "import os\n",
    "import pandas as pd\n",
    "import numpy as np\n",
    "import matplotlib.pyplot as plt\n",
    "import seaborn as sns\n",
    "sns.set_theme(style=\"whitegrid\")"
   ]
  },
  {
   "cell_type": "markdown",
   "id": "57a1251d",
   "metadata": {},
   "source": [
    "## Data Import"
   ]
  },
  {
   "cell_type": "code",
   "execution_count": 2,
   "id": "126b0199",
   "metadata": {},
   "outputs": [],
   "source": [
    "# Load Raw Data\n",
    "df_raw = pd.read_csv(\"data/raw/kaggle_survey_2022_responses.csv\", low_memory=False)"
   ]
  },
  {
   "cell_type": "markdown",
   "id": "113ce7fa",
   "metadata": {},
   "source": [
    "### Data inspect\n",
    "The dataset is inspected using basic methods such as .info(), .shape, and .head() to understand the structure, size, and preview the content. This step helps identify any initial anomalies and informs the following cleaning steps."
   ]
  },
  {
   "cell_type": "code",
   "execution_count": 3,
   "id": "1eed341d",
   "metadata": {},
   "outputs": [
    {
     "name": "stdout",
     "output_type": "stream",
     "text": [
      "<class 'pandas.core.frame.DataFrame'>\n",
      "RangeIndex: 23998 entries, 0 to 23997\n",
      "Columns: 296 entries, Duration (in seconds) to Q44_12\n",
      "dtypes: object(296)\n",
      "memory usage: 54.2+ MB\n"
     ]
    }
   ],
   "source": [
    "df_raw.info()"
   ]
  },
  {
   "cell_type": "code",
   "execution_count": 4,
   "id": "74088118",
   "metadata": {},
   "outputs": [
    {
     "data": {
      "text/plain": [
       "(23998, 296)"
      ]
     },
     "execution_count": 4,
     "metadata": {},
     "output_type": "execute_result"
    }
   ],
   "source": [
    "df_raw.shape"
   ]
  },
  {
   "cell_type": "code",
   "execution_count": 5,
   "id": "2e3195cb",
   "metadata": {},
   "outputs": [
    {
     "data": {
      "text/html": [
       "<div>\n",
       "<style scoped>\n",
       "    .dataframe tbody tr th:only-of-type {\n",
       "        vertical-align: middle;\n",
       "    }\n",
       "\n",
       "    .dataframe tbody tr th {\n",
       "        vertical-align: top;\n",
       "    }\n",
       "\n",
       "    .dataframe thead th {\n",
       "        text-align: right;\n",
       "    }\n",
       "</style>\n",
       "<table border=\"1\" class=\"dataframe\">\n",
       "  <thead>\n",
       "    <tr style=\"text-align: right;\">\n",
       "      <th></th>\n",
       "      <th>Duration (in seconds)</th>\n",
       "      <th>Q2</th>\n",
       "      <th>Q3</th>\n",
       "      <th>Q4</th>\n",
       "      <th>Q5</th>\n",
       "      <th>Q6_1</th>\n",
       "      <th>Q6_2</th>\n",
       "      <th>Q6_3</th>\n",
       "      <th>Q6_4</th>\n",
       "      <th>Q6_5</th>\n",
       "      <th>...</th>\n",
       "      <th>Q44_3</th>\n",
       "      <th>Q44_4</th>\n",
       "      <th>Q44_5</th>\n",
       "      <th>Q44_6</th>\n",
       "      <th>Q44_7</th>\n",
       "      <th>Q44_8</th>\n",
       "      <th>Q44_9</th>\n",
       "      <th>Q44_10</th>\n",
       "      <th>Q44_11</th>\n",
       "      <th>Q44_12</th>\n",
       "    </tr>\n",
       "  </thead>\n",
       "  <tbody>\n",
       "    <tr>\n",
       "      <th>0</th>\n",
       "      <td>Duration (in seconds)</td>\n",
       "      <td>What is your age (# years)?</td>\n",
       "      <td>What is your gender? - Selected Choice</td>\n",
       "      <td>In which country do you currently reside?</td>\n",
       "      <td>Are you currently a student? (high school, uni...</td>\n",
       "      <td>On which platforms have you begun or completed...</td>\n",
       "      <td>On which platforms have you begun or completed...</td>\n",
       "      <td>On which platforms have you begun or completed...</td>\n",
       "      <td>On which platforms have you begun or completed...</td>\n",
       "      <td>On which platforms have you begun or completed...</td>\n",
       "      <td>...</td>\n",
       "      <td>Who/what are your favorite media sources that ...</td>\n",
       "      <td>Who/what are your favorite media sources that ...</td>\n",
       "      <td>Who/what are your favorite media sources that ...</td>\n",
       "      <td>Who/what are your favorite media sources that ...</td>\n",
       "      <td>Who/what are your favorite media sources that ...</td>\n",
       "      <td>Who/what are your favorite media sources that ...</td>\n",
       "      <td>Who/what are your favorite media sources that ...</td>\n",
       "      <td>Who/what are your favorite media sources that ...</td>\n",
       "      <td>Who/what are your favorite media sources that ...</td>\n",
       "      <td>Who/what are your favorite media sources that ...</td>\n",
       "    </tr>\n",
       "    <tr>\n",
       "      <th>1</th>\n",
       "      <td>121</td>\n",
       "      <td>30-34</td>\n",
       "      <td>Man</td>\n",
       "      <td>India</td>\n",
       "      <td>No</td>\n",
       "      <td>NaN</td>\n",
       "      <td>NaN</td>\n",
       "      <td>NaN</td>\n",
       "      <td>NaN</td>\n",
       "      <td>NaN</td>\n",
       "      <td>...</td>\n",
       "      <td>NaN</td>\n",
       "      <td>NaN</td>\n",
       "      <td>NaN</td>\n",
       "      <td>NaN</td>\n",
       "      <td>NaN</td>\n",
       "      <td>NaN</td>\n",
       "      <td>NaN</td>\n",
       "      <td>NaN</td>\n",
       "      <td>NaN</td>\n",
       "      <td>NaN</td>\n",
       "    </tr>\n",
       "    <tr>\n",
       "      <th>2</th>\n",
       "      <td>462</td>\n",
       "      <td>30-34</td>\n",
       "      <td>Man</td>\n",
       "      <td>Algeria</td>\n",
       "      <td>No</td>\n",
       "      <td>NaN</td>\n",
       "      <td>NaN</td>\n",
       "      <td>NaN</td>\n",
       "      <td>NaN</td>\n",
       "      <td>NaN</td>\n",
       "      <td>...</td>\n",
       "      <td>NaN</td>\n",
       "      <td>NaN</td>\n",
       "      <td>NaN</td>\n",
       "      <td>NaN</td>\n",
       "      <td>NaN</td>\n",
       "      <td>NaN</td>\n",
       "      <td>NaN</td>\n",
       "      <td>NaN</td>\n",
       "      <td>NaN</td>\n",
       "      <td>NaN</td>\n",
       "    </tr>\n",
       "    <tr>\n",
       "      <th>3</th>\n",
       "      <td>293</td>\n",
       "      <td>18-21</td>\n",
       "      <td>Man</td>\n",
       "      <td>Egypt</td>\n",
       "      <td>Yes</td>\n",
       "      <td>Coursera</td>\n",
       "      <td>edX</td>\n",
       "      <td>NaN</td>\n",
       "      <td>DataCamp</td>\n",
       "      <td>NaN</td>\n",
       "      <td>...</td>\n",
       "      <td>NaN</td>\n",
       "      <td>Kaggle (notebooks, forums, etc)</td>\n",
       "      <td>NaN</td>\n",
       "      <td>YouTube (Kaggle YouTube, Cloud AI Adventures, ...</td>\n",
       "      <td>Podcasts (Chai Time Data Science, O’Reilly Dat...</td>\n",
       "      <td>NaN</td>\n",
       "      <td>NaN</td>\n",
       "      <td>NaN</td>\n",
       "      <td>NaN</td>\n",
       "      <td>NaN</td>\n",
       "    </tr>\n",
       "    <tr>\n",
       "      <th>4</th>\n",
       "      <td>851</td>\n",
       "      <td>55-59</td>\n",
       "      <td>Man</td>\n",
       "      <td>France</td>\n",
       "      <td>No</td>\n",
       "      <td>Coursera</td>\n",
       "      <td>NaN</td>\n",
       "      <td>Kaggle Learn Courses</td>\n",
       "      <td>NaN</td>\n",
       "      <td>NaN</td>\n",
       "      <td>...</td>\n",
       "      <td>NaN</td>\n",
       "      <td>Kaggle (notebooks, forums, etc)</td>\n",
       "      <td>Course Forums (forums.fast.ai, Coursera forums...</td>\n",
       "      <td>NaN</td>\n",
       "      <td>NaN</td>\n",
       "      <td>Blogs (Towards Data Science, Analytics Vidhya,...</td>\n",
       "      <td>NaN</td>\n",
       "      <td>NaN</td>\n",
       "      <td>NaN</td>\n",
       "      <td>NaN</td>\n",
       "    </tr>\n",
       "  </tbody>\n",
       "</table>\n",
       "<p>5 rows × 296 columns</p>\n",
       "</div>"
      ],
      "text/plain": [
       "   Duration (in seconds)                           Q2  \\\n",
       "0  Duration (in seconds)  What is your age (# years)?   \n",
       "1                    121                        30-34   \n",
       "2                    462                        30-34   \n",
       "3                    293                        18-21   \n",
       "4                    851                        55-59   \n",
       "\n",
       "                                       Q3  \\\n",
       "0  What is your gender? - Selected Choice   \n",
       "1                                     Man   \n",
       "2                                     Man   \n",
       "3                                     Man   \n",
       "4                                     Man   \n",
       "\n",
       "                                          Q4  \\\n",
       "0  In which country do you currently reside?   \n",
       "1                                      India   \n",
       "2                                    Algeria   \n",
       "3                                      Egypt   \n",
       "4                                     France   \n",
       "\n",
       "                                                  Q5  \\\n",
       "0  Are you currently a student? (high school, uni...   \n",
       "1                                                 No   \n",
       "2                                                 No   \n",
       "3                                                Yes   \n",
       "4                                                 No   \n",
       "\n",
       "                                                Q6_1  \\\n",
       "0  On which platforms have you begun or completed...   \n",
       "1                                                NaN   \n",
       "2                                                NaN   \n",
       "3                                           Coursera   \n",
       "4                                           Coursera   \n",
       "\n",
       "                                                Q6_2  \\\n",
       "0  On which platforms have you begun or completed...   \n",
       "1                                                NaN   \n",
       "2                                                NaN   \n",
       "3                                                edX   \n",
       "4                                                NaN   \n",
       "\n",
       "                                                Q6_3  \\\n",
       "0  On which platforms have you begun or completed...   \n",
       "1                                                NaN   \n",
       "2                                                NaN   \n",
       "3                                                NaN   \n",
       "4                               Kaggle Learn Courses   \n",
       "\n",
       "                                                Q6_4  \\\n",
       "0  On which platforms have you begun or completed...   \n",
       "1                                                NaN   \n",
       "2                                                NaN   \n",
       "3                                           DataCamp   \n",
       "4                                                NaN   \n",
       "\n",
       "                                                Q6_5  ...  \\\n",
       "0  On which platforms have you begun or completed...  ...   \n",
       "1                                                NaN  ...   \n",
       "2                                                NaN  ...   \n",
       "3                                                NaN  ...   \n",
       "4                                                NaN  ...   \n",
       "\n",
       "                                               Q44_3  \\\n",
       "0  Who/what are your favorite media sources that ...   \n",
       "1                                                NaN   \n",
       "2                                                NaN   \n",
       "3                                                NaN   \n",
       "4                                                NaN   \n",
       "\n",
       "                                               Q44_4  \\\n",
       "0  Who/what are your favorite media sources that ...   \n",
       "1                                                NaN   \n",
       "2                                                NaN   \n",
       "3                    Kaggle (notebooks, forums, etc)   \n",
       "4                    Kaggle (notebooks, forums, etc)   \n",
       "\n",
       "                                               Q44_5  \\\n",
       "0  Who/what are your favorite media sources that ...   \n",
       "1                                                NaN   \n",
       "2                                                NaN   \n",
       "3                                                NaN   \n",
       "4  Course Forums (forums.fast.ai, Coursera forums...   \n",
       "\n",
       "                                               Q44_6  \\\n",
       "0  Who/what are your favorite media sources that ...   \n",
       "1                                                NaN   \n",
       "2                                                NaN   \n",
       "3  YouTube (Kaggle YouTube, Cloud AI Adventures, ...   \n",
       "4                                                NaN   \n",
       "\n",
       "                                               Q44_7  \\\n",
       "0  Who/what are your favorite media sources that ...   \n",
       "1                                                NaN   \n",
       "2                                                NaN   \n",
       "3  Podcasts (Chai Time Data Science, O’Reilly Dat...   \n",
       "4                                                NaN   \n",
       "\n",
       "                                               Q44_8  \\\n",
       "0  Who/what are your favorite media sources that ...   \n",
       "1                                                NaN   \n",
       "2                                                NaN   \n",
       "3                                                NaN   \n",
       "4  Blogs (Towards Data Science, Analytics Vidhya,...   \n",
       "\n",
       "                                               Q44_9  \\\n",
       "0  Who/what are your favorite media sources that ...   \n",
       "1                                                NaN   \n",
       "2                                                NaN   \n",
       "3                                                NaN   \n",
       "4                                                NaN   \n",
       "\n",
       "                                              Q44_10  \\\n",
       "0  Who/what are your favorite media sources that ...   \n",
       "1                                                NaN   \n",
       "2                                                NaN   \n",
       "3                                                NaN   \n",
       "4                                                NaN   \n",
       "\n",
       "                                              Q44_11  \\\n",
       "0  Who/what are your favorite media sources that ...   \n",
       "1                                                NaN   \n",
       "2                                                NaN   \n",
       "3                                                NaN   \n",
       "4                                                NaN   \n",
       "\n",
       "                                              Q44_12  \n",
       "0  Who/what are your favorite media sources that ...  \n",
       "1                                                NaN  \n",
       "2                                                NaN  \n",
       "3                                                NaN  \n",
       "4                                                NaN  \n",
       "\n",
       "[5 rows x 296 columns]"
      ]
     },
     "execution_count": 5,
     "metadata": {},
     "output_type": "execute_result"
    }
   ],
   "source": [
    "df_raw.head()"
   ]
  },
  {
   "cell_type": "markdown",
   "id": "e1ba2e6e",
   "metadata": {},
   "source": [
    "### Export survey questions and choices\n",
    "Survey questions and choices embedded in the dataset’s first rows are extracted and saved as a separate CSV file for documentation purposes. These are removed from the working dataset to avoid interference with analysis."
   ]
  },
  {
   "cell_type": "code",
   "execution_count": 6,
   "id": "6d80811c",
   "metadata": {},
   "outputs": [],
   "source": [
    "# Extract and save the survey questions and choices for reference\n",
    "survey_questions = df_raw.iloc[0]\n",
    "survey_full_text = \"data/supplementary/survey_questions_full_text.csv\"\n",
    "survey_questions.to_csv(survey_full_text, index=True)"
   ]
  },
  {
   "cell_type": "markdown",
   "id": "551ad164",
   "metadata": {},
   "source": [
    "## Data Cleaning and Preprocessing\n",
    "Steps include removing duplicate rows, standardizing column names, handling missing critical values, and normalizing categorical gender responses. A clean dataset including all gender responses is created (`df_clean`). A focused subset containing only Man, Woman, and Nonbinary categories is derived (`df_gender`) for subsequent analysis.\n",
    "Obs: Missing values (NaN) are expected in multiple choice questions (all Qn_x)\n",
    "\n",
    "A summary comparison of original, cleaned, and filtered dataset shapes is included to track data reduction and cleaning effects."
   ]
  },
  {
   "cell_type": "markdown",
   "id": "1a9807fa",
   "metadata": {},
   "source": [
    "### Clean survey data"
   ]
  },
  {
   "cell_type": "code",
   "execution_count": 7,
   "id": "b80df269",
   "metadata": {},
   "outputs": [
    {
     "name": "stdout",
     "output_type": "stream",
     "text": [
      "Raw data shape: (23998, 296)\n",
      "Clean data shape: (8136, 295)\n",
      "Gender-focused data shape: (8039, 295)\n"
     ]
    }
   ],
   "source": [
    "# Make a copy of the raw data without first row\n",
    "df_clean = df_raw[1:].copy()\n",
    "\n",
    "# Drop first column with survey response duration\n",
    "df_clean.drop(columns=[\"Duration (in seconds)\"], inplace=True)\n",
    "\n",
    "# Drop duplicates\n",
    "df_clean.drop_duplicates(inplace=True)\n",
    "\n",
    "# Rename columns to lowercase and replace spaces with underscores for consistency\n",
    "df_clean.columns = df_clean.columns.str.lower().str.replace(' ', '_')\n",
    "\n",
    "# Remove rows with missing gender or salary information\n",
    "df_clean = df_clean.dropna(subset=['q3', 'q29'])\n",
    "\n",
    "# Map gender responses to consistent categories\n",
    "gender_map = {\n",
    "    'man': 'Man',\n",
    "    'woman': 'Woman',\n",
    "    'non-binary': 'Nonbinary',\n",
    "    'nonbinary': 'Nonbinary',\n",
    "}\n",
    "\n",
    "# Normalize the gender column, which is 'q3' in this survey\n",
    "df_clean['q3'] = df_clean['q3'].str.lower().map(gender_map)\n",
    "\n",
    "# Create the main subset with only Man, Woman, Nonbinary for focused analysis\n",
    "df_gender = df_clean[df_clean['q3'].isin(['Man', 'Woman', 'Nonbinary'])].copy()\n",
    "\n",
    "# Show data summary\n",
    "print(f'Raw data shape: {df_raw.shape}')\n",
    "print(f'Clean data shape: {df_clean.shape}')\n",
    "print(f'Gender-focused data shape: {df_gender.shape}')"
   ]
  },
  {
   "cell_type": "markdown",
   "id": "157cec13",
   "metadata": {},
   "source": [
    "### Export clean datasets"
   ]
  },
  {
   "cell_type": "code",
   "execution_count": 8,
   "id": "c74b5d29",
   "metadata": {},
   "outputs": [],
   "source": [
    "# Export Clean dataset\n",
    "df_clean_export = \"data/processed/responses_clean.csv\"\n",
    "df_clean.to_csv(df_clean_export, index=True)\n",
    "\n",
    "# Export Clean and filtered Gender dataset\n",
    "df_gender_export = \"data/processed/responses_clean_gender.csv\"\n",
    "df_gender.to_csv(df_gender_export, index=True)"
   ]
  },
  {
   "cell_type": "markdown",
   "id": "6696434f",
   "metadata": {},
   "source": [
    "## Exploratory Data Analysis (EDA)\n",
    "\n",
    "This section explores the cleaned dataset through univariate and bivariate analysis, complemented by insights derived from SQL queries. The analysis investigates demographic distributions, educational attainment by gender, age ranges, salary disparities, and job roles, utilizing visualizations and statistical testing for comprehensive understanding.\n",
    "\n",
    "**Key business questions:**\n",
    "- What is the gender distribution among respondents?  \n",
    "- Which countries have the highest representation of data science professionals?  \n",
    "- Is there a difference in the level of education among different genders?  \n",
    "- How does age distribution vary by gender?  \n",
    "- What is the gender pay gap in data science and machine learning professions?  \n",
    "- How are job titles distributed across genders?  \n",
    " \n",
    "\n",
    "### Univariate Analysis"
   ]
  },
  {
   "cell_type": "markdown",
   "id": "9feaf26a",
   "metadata": {},
   "source": [
    "#### Top 15 countries of residence\n",
    "- Geographic Coverage: The survey collected responses from 56 distinct countries/territories, excluding the aggregated \"Other\" category and any undisclosed locations.\n",
    "- Respondent Concentration: The participant base is heavily concentrated, with India (8,792 respondents, 36.64%) and the United States of America (2,920 respondents, 12.17%) together accounting for 48.81% of all survey responses.\n",
    "- Data Aggregation: Consistent with the survey's methodology, countries with fewer than 50 respondents were grouped into an \"Other\" category (1,430 respondents, 5.96%) for de-identification purposes.\n",
    "- European Representation: European Union countries show limited participation. France, with 262 respondents (1.09%), is the highest-ranking EU nation among the top 15, placed 15th overall.\n",
    "- Methodological Bias: The survey's distribution likely introduces a sampling bias. This approach tends to overrepresent regions with high Kaggle community engagement, suggesting that these results may not be generalizable to broader global populations or market distributions, particularly for underrepresented regions like the EU."
   ]
  },
  {
   "cell_type": "markdown",
   "id": "74e491b8",
   "metadata": {},
   "source": [
    "![image.png](attachment:image.png)"
   ]
  },
  {
   "cell_type": "markdown",
   "id": "d482e144",
   "metadata": {},
   "source": [
    "#### Gender distribution\n",
    "- The gender distribution: Man around 76%, Woman around 22%, Nonbinary and Self-describe around 0.5%\n",
    "- Although highly disporportional, this gender representation is in line with global industry trends, that shows a range of 22%-26% for women in AI/ML/Data Science roles globally. Thus, we can consider the analysis as a reflection of the global situation regarding the gender distribution. \n",
    "- Important reminder: the same is not valid for region distribution.\n",
    "- (sources: https://www.weforum.org/publications/gender-parity-in-the-intelligent-age-2025/, https://www.pwc.com/gx/en/about/inclusion/gender-equity/ai-accelerating-womens-inclusion-workplace.html, https://www2.deloitte.com/content/dam/Deloitte/us/Documents/consulting/us-ai-institute-women-in-data-careers.pdf)\n",
    "- Since we can't know the gender of those who \"Prefer not to say\" and those who \"Self-describe\", I removed them from the further analyis."
   ]
  },
  {
   "cell_type": "markdown",
   "id": "9a5643da",
   "metadata": {},
   "source": [
    "![image.png](attachment:image.png)"
   ]
  },
  {
   "cell_type": "markdown",
   "id": "2a9acd26",
   "metadata": {},
   "source": [
    "## Visualization"
   ]
  },
  {
   "cell_type": "code",
   "execution_count": null,
   "id": "da42c519",
   "metadata": {},
   "outputs": [],
   "source": [
    "#read the sql queries responses to create visualizations:\n",
    "country_per = pd.read_csv(\"data/outputs/sql_outputs/country-total.csv\")\n",
    "edu_per = pd.read_csv(\"data/outputs/sql_outputs/education-gender.csv\")\n",
    "gender_per = pd.read_csv(\"data/outputs/sql_outputs/gender.csv\")"
   ]
  },
  {
   "cell_type": "markdown",
   "id": "650a4338",
   "metadata": {},
   "source": [
    "### Gender Distribution"
   ]
  },
  {
   "cell_type": "code",
   "execution_count": null,
   "id": "99192c3a",
   "metadata": {},
   "outputs": [],
   "source": [
    "#Gender distribution\n",
    "labels = gender_per['Gender']\n",
    "sizes = gender_per['Percentage']\n",
    "plt.pie(sizes,)\n",
    "legend_labels = [f'{l} ({s:.1f}%)' for l, s in zip(labels, sizes)]\n",
    "plt.legend(legend_labels,\n",
    "           title=\"Gender\",\n",
    "           loc=\"center left\",\n",
    "           bbox_to_anchor=(1, 0, 0.5, 1))\n",
    "plt.title('Gender Distribution of Survey Respondents', fontsize=14)\n",
    "plt.tight_layout()\n",
    "plt.show()"
   ]
  },
  {
   "cell_type": "markdown",
   "id": "765b2f6c",
   "metadata": {},
   "source": [
    "### Country Distribution"
   ]
  },
  {
   "cell_type": "code",
   "execution_count": null,
   "id": "ab584974",
   "metadata": {},
   "outputs": [],
   "source": [
    "#Country distribution\n",
    "country_per\n",
    "country_per.dtypes\n",
    "plt.figure(figsize=(10, 12))\n",
    "ax = sns.barplot(\n",
    "    x='Total respondents',\n",
    "    y='Country',\n",
    "    data=country_per,\n",
    "    palette='viridis',\n",
    "    legend=False)\n",
    "\n",
    "# Add title and labels\n",
    "plt.title('Distribution of Respondents by Country', fontsize=12)\n",
    "plt.xlabel('Total Respondents', fontsize=10)\n",
    "plt.ylabel('Country', fontsize=10)\n",
    "plt.xticks(rotation=45, ha='right')\n",
    "plt.tight_layout()\n",
    "plt.show()"
   ]
  },
  {
   "cell_type": "markdown",
   "id": "5ae780b2",
   "metadata": {},
   "source": [
    "### Bivariate Analysis"
   ]
  },
  {
   "cell_type": "markdown",
   "id": "0b128629",
   "metadata": {},
   "source": [
    "#### Educational level by Gender\n",
    "Is there a difference in the level of education among different genders?\n",
    "- Consistent Foundational Degrees: The most common educational levels across all gender groups are Master's and Bachelor's degrees, showing consistency in proportions:\n",
    "Master's Degree: Men (39.1%), Women (39.22%), Nonbinary (36.36%)\n",
    "Bachelor's Degree: Men (33.08%), Women (31.25%), Nonbinary (32.47%)"
   ]
  },
  {
   "attachments": {
    "image.png": {
     "image/png": "[encoded data removed]"
    }
   },
   "cell_type": "markdown",
   "id": "fb2838cf",
   "metadata": {},
   "source": [
    "![image.png](attachment:image.png)"
   ]
  },
  {
   "cell_type": "code",
   "execution_count": null,
   "id": "dc8073e9",
   "metadata": {},
   "outputs": [],
   "source": [
    "edu_per #SQL query return"
   ]
  },
  {
   "cell_type": "code",
   "execution_count": null,
   "id": "5430ac93",
   "metadata": {},
   "outputs": [],
   "source": [
    "#Education level by gender\n",
    "education_order = [\n",
    "    'Doctoral degree',\n",
    "    'Professional doctorate',\n",
    "    'Master’s degree',\n",
    "    'Bachelor’s degree',\n",
    "    'Some college/university study without earning a bachelor’s degree',\n",
    "    'No formal education past high school',\n",
    "    'I prefer not to answer']\n",
    "\n",
    "edu_per['Education Level'] = pd.Categorical(\n",
    "    edu_per['Education Level'],\n",
    "    categories=education_order,\n",
    "    ordered=True)\n",
    "\n",
    "gender_order = ['Woman', 'Man', 'Nonbinary']\n",
    "\n",
    "plt.figure(figsize=(14, 8)) \n",
    "ax = sns.barplot(\n",
    "    x='Education Level',\n",
    "    y='% by Gender',\n",
    "    hue='Gender',\n",
    "    hue_order=gender_order,\n",
    "    data=edu_per,\n",
    "    palette='husl')\n",
    "\n",
    "plt.title('Educational Level by Gender', fontsize=18)\n",
    "plt.xlabel('Highest Education Level', fontsize=14)\n",
    "plt.ylabel('Respondents within Gender Group (%)', fontsize=14)\n",
    "plt.xticks(rotation=45, ha='right', fontsize=10)\n",
    "       \n",
    "plt.legend(title='Gender', bbox_to_anchor=(1.05, 1), loc='upper left')\n",
    "plt.tight_layout()\n",
    "plt.show()        "
   ]
  },
  {
   "cell_type": "markdown",
   "id": "72e589e4",
   "metadata": {},
   "source": [
    "#### Age range distribution by Gender"
   ]
  },
  {
   "cell_type": "code",
   "execution_count": null,
   "id": "b3da9e23",
   "metadata": {},
   "outputs": [],
   "source": [
    "#Age by gender\n",
    "print(dfg['Q2'].unique().tolist())\n",
    "age_order = ['30-34', '18-21', '55-59', '45-49', '70+', '22-24', '35-39','40-44', '50-54', '25-29', '60-69']\n",
    "age_order.sort()\n",
    "dfg.loc[:, 'Q2'] = pd.Categorical(dfg['Q2'], categories=age_order, ordered=True)\n",
    "print(age_order)"
   ]
  },
  {
   "cell_type": "code",
   "execution_count": null,
   "id": "97f9f28b",
   "metadata": {},
   "outputs": [],
   "source": [
    "#Age by gender - plot\n",
    "\n",
    "#Age by gender\n",
    "print(dfg['Q2'].unique().tolist())\n",
    "age_order = ['30-34', '18-21', '55-59', '45-49', '70+', '22-24', '35-39','40-44', '50-54', '25-29', '60-69']\n",
    "age_order.sort()\n",
    "dfg.loc[:, 'Q2'] = pd.Categorical(dfg['Q2'], categories=age_order, ordered=True)\n",
    "print(age_order)\n",
    "\n",
    "#Define the order for age and gender\n",
    "gender_order = ['Woman', 'Man', 'Nonbinary']\n",
    "plt.figure(figsize=(14, 8)) \n",
    "\n",
    "ax = sns.countplot(\n",
    "    x= 'Q2',\n",
    "    hue='Q3',\n",
    "    hue_order=gender_order,\n",
    "    data=dfg,\n",
    "    palette='husl',\n",
    "    order=age_order\n",
    ")\n",
    "\n",
    "plt.title('Age range by Gender', fontsize=18)\n",
    "plt.xlabel('Age range', fontsize=14)\n",
    "plt.ylabel('Total respondents', fontsize=14)\n",
    "plt.xticks(rotation=45, ha='right', fontsize=10)\n",
    "       \n",
    "plt.legend(title='Gender', bbox_to_anchor=(1.05, 1), loc='upper left')\n",
    "plt.tight_layout()\n",
    "plt.show()     "
   ]
  },
  {
   "cell_type": "code",
   "execution_count": null,
   "id": "e0312dd7",
   "metadata": {},
   "outputs": [],
   "source": [
    "#Age range in percentage\n",
    "# Calculate proportions within each Q2 group\n",
    "gender_age_proportions = dfg.groupby('Q2')['Q3'].value_counts(normalize=True).unstack(fill_value=0,)\n",
    "\n",
    "plt.figure(figsize=(14, 8))\n",
    "# Ensure the order of hues\n",
    "gender_age_proportions.loc[:, gender_order].plot(kind='bar', stacked=True, colormap='viridis', ax=plt.gca())\n",
    "\n",
    "plt.title('Proportion of Gender within Each Age Range', fontsize=18)\n",
    "plt.xlabel('Age range', fontsize=12)\n",
    "plt.ylabel('Proportion of Respondents', fontsize=12)\n",
    "plt.xticks(rotation=0, ha='center', fontsize=10)\n",
    "plt.legend(title='Gender', bbox_to_anchor=(1.05, 1), loc='upper left')\n",
    "plt.tight_layout()\n",
    "plt.show()"
   ]
  },
  {
   "cell_type": "code",
   "execution_count": null,
   "id": "be986b92",
   "metadata": {},
   "outputs": [],
   "source": [
    "# Filter the DataFrame for 'Nonbinary' respondents only\n",
    "dfg_nonbinary = dfg[dfg['Q3'] == 'Nonbinary'].copy()\n",
    "\n",
    "#Correct order by age\n",
    "dfg_nonbinary.loc[:, 'Q2'] = pd.Categorical(dfg_nonbinary['Q2'], categories=age_order, ordered=True)\n",
    "\n",
    "# Create the plot for Nonbinary\n",
    "plt.figure(figsize=(10, 6))\n",
    "sns.countplot(data=dfg_nonbinary, x='Q2', palette='viridis', order=age_order)\n",
    "\n",
    "plt.title('Age Range Distribution for Nonbinary Respondents', fontsize=16)\n",
    "plt.xlabel('Age Range', fontsize=12)\n",
    "plt.ylabel('Number of Respondents', fontsize=12)\n",
    "plt.xticks(rotation=45, ha='right', fontsize=10)\n",
    "plt.tight_layout()\n",
    "plt.show()"
   ]
  },
  {
   "cell_type": "code",
   "execution_count": null,
   "id": "45d72536",
   "metadata": {},
   "outputs": [],
   "source": [
    "#Students / Professionals by Gender\n",
    "# Create a new column 'Q5_label' in dfg\n",
    "dfg.loc[dfg['Q5'] == 'Yes', 'Q5_label'] = 'Student'\n",
    "dfg.loc[dfg['Q5'] == 'No', 'Q5_label'] = 'Professional'\n",
    "# Calculate proportions within each Q5 group\n",
    "student_prop = dfg.groupby('Q3')['Q5_label'].value_counts(normalize=True).unstack(fill_value=0)\n",
    "\n",
    "plt.figure(figsize=(8, 6)) \n",
    "\n",
    "ax = student_prop.plot(kind='bar', stacked=True, ax=plt.gca(), cmap='viridis')\n",
    "\n",
    "plt.title('Students & Professionals by Gender', fontsize=18)\n",
    "plt.xlabel('Gender', fontsize=12)\n",
    "plt.ylabel('Proportion of Respondents', fontsize=14)\n",
    "plt.xticks(rotation=0, ha='center', fontsize=10)\n",
    "plt.yticks(fontsize=10)\n",
    "plt.axhline(y=0.5, color='grey', linestyle='--', label='50% Mark')\n",
    "plt.legend(title='Category', bbox_to_anchor=(1.05, 1), loc='upper left') \n",
    "plt.tight_layout()\n",
    "plt.show()  "
   ]
  },
  {
   "cell_type": "markdown",
   "id": "0022c729",
   "metadata": {},
   "source": [
    "#### Gender pay gap\n",
    "Is there a pay gap among gender? \n",
    "This question was asked only to respondents who are not students (Q5 = \"No\") and are not unemployed (Q23 != \"unemployed\")"
   ]
  },
  {
   "cell_type": "markdown",
   "id": "fadfc1d4",
   "metadata": {},
   "source": [
    "#### New subset: clean salary range [Q29]: only professionals [Q5] and employed [Q23]\n",
    "1. Filter out the students and unemployed\n",
    "2. Check for missing values after that"
   ]
  },
  {
   "cell_type": "code",
   "execution_count": null,
   "id": "38265e3c",
   "metadata": {},
   "outputs": [],
   "source": [
    "dfg_filt = dfg[(dfg['Q5'] == 'No') & (dfg['Q23'] != \"unemployed\")].copy()\n",
    "dfg_filt.dropna(subset=['Q29'], inplace=True) #previous Length: 11833 -- new Lenght: 8039\n",
    "dfg_salary = dfg_filt['Q29']\n",
    "dfg_salary"
   ]
  },
  {
   "cell_type": "code",
   "execution_count": null,
   "id": "f2d753f5",
   "metadata": {},
   "outputs": [],
   "source": [
    "print(dfg_salary.unique())"
   ]
  },
  {
   "cell_type": "code",
   "execution_count": null,
   "id": "029edcac",
   "metadata": {},
   "outputs": [],
   "source": [
    "print(dfg_salary.nunique())"
   ]
  },
  {
   "cell_type": "code",
   "execution_count": null,
   "id": "d3367b21",
   "metadata": {},
   "outputs": [],
   "source": [
    "salary_order = [\n",
    "    '$0-999',\n",
    "    '1,000-1,999',\n",
    "    '2,000-2,999',\n",
    "    '3,000-3,999',\n",
    "    '4,000-4,999',\n",
    "    '5,000-7,499',\n",
    "    '7,500-9,999',\n",
    "    '10,000-14,999',\n",
    "    '15,000-19,999',\n",
    "    '20,000-24,999',\n",
    "    '25,000-29,999',\n",
    "    '30,000-39,999',\n",
    "    '40,000-49,999',\n",
    "    '50,000-59,999',\n",
    "    '60,000-69,999',\n",
    "    '70,000-79,999',\n",
    "    '80,000-89,999',\n",
    "    '90,000-99,999',\n",
    "    '100,000-124,999',\n",
    "    '125,000-149,999',\n",
    "    '150,000-199,999',\n",
    "    '200,000-249,999',\n",
    "    '250,000-299,999',\n",
    "    '300,000-499,999',\n",
    "    '$500,000-999,999',\n",
    "    '>$1,000,000'\n",
    "]"
   ]
  },
  {
   "cell_type": "code",
   "execution_count": null,
   "id": "5f90f09e",
   "metadata": {},
   "outputs": [],
   "source": [
    "#categorical count of salary range\n",
    "plt.figure(figsize=(8, 10))\n",
    "ax = sns.countplot(\n",
    "    y='Q29',\n",
    "    data=dfg_filt,\n",
    "    palette='viridis',\n",
    "    order=salary_order)\n",
    "\n",
    "# Add title and labels\n",
    "plt.title('Distribution of Respondents by Salary range', fontsize=16)\n",
    "plt.xlabel('Total Respondents', fontsize=10)\n",
    "plt.ylabel('Salary range', fontsize=10)\n",
    "plt.tight_layout()\n",
    "plt.show()"
   ]
  },
  {
   "cell_type": "code",
   "execution_count": null,
   "id": "8a45cba8",
   "metadata": {},
   "outputs": [],
   "source": [
    "# Get the counts for each salary range\n",
    "salary_counts = dfg_filt['Q29'].value_counts()\n",
    "\n",
    "# Convert the Series to a DataFrame\n",
    "salary_counts_df = salary_counts.reset_index()\n",
    "salary_counts_df.columns = ['Salary Range', 'Total Respondents']\n",
    "\n",
    "# Salary range - keep the order\n",
    "salary_counts_df['Salary Range'] = pd.Categorical(\n",
    "    salary_counts_df['Salary Range'],\n",
    "    categories=salary_order,\n",
    "    ordered=True)\n",
    "\n",
    "salary_counts_df = salary_counts_df.sort_values('Salary Range')\n",
    "\n",
    "# Export to CSV\n",
    "salary_counts_df.to_csv('data/outputs/tables_graphs/salary_range_data.csv', index=False)"
   ]
  },
  {
   "cell_type": "markdown",
   "id": "5a6621df",
   "metadata": {},
   "source": [
    "#### Convert salary range to midpoint\n",
    "Midpoint = the average of each range. Ex: first range 0-999, midpoint is (0+999)/2=499.5"
   ]
  },
  {
   "cell_type": "code",
   "execution_count": null,
   "id": "4ff1fb65",
   "metadata": {},
   "outputs": [],
   "source": [
    "def convert_salary_range_to_midpoint(salary_range):\n",
    "    if pd.isna(salary_range):\n",
    "        return np.nan\n",
    "    \n",
    "    salary_range = str(salary_range).replace('$', '').replace(',', '').strip()\n",
    "\n",
    "    if '-' in salary_range:\n",
    "        parts = salary_range.split('-')\n",
    "        try:\n",
    "            lower = float(parts[0])\n",
    "            upper = float(parts[1])\n",
    "            return (lower + upper) / 2\n",
    "        except ValueError:\n",
    "            return np.nan # Handle cases where parts are not valid numbers\n",
    "    elif '+' in salary_range or '>' in salary_range:\n",
    "        try:\n",
    "            clean_num_str = (salary_range.replace('+', '').replace('>', ''))\n",
    "            return float(clean_num_str)\n",
    "        except ValueError:\n",
    "            return np.nan\n",
    "    else: # Handle single numbers if any, or like 'No income' if any\n",
    "        try:\n",
    "            return float(salary_range)\n",
    "        except ValueError:\n",
    "            return np.nan"
   ]
  },
  {
   "cell_type": "code",
   "execution_count": null,
   "id": "1853f40c",
   "metadata": {},
   "outputs": [],
   "source": [
    "#apply function to filtered dataframe (without students and unemployed)\n",
    "dfg_filt.loc[:, 'Q29_midpoint'] = dfg_filt['Q29'].apply(convert_salary_range_to_midpoint)\n",
    "print(dfg_filt['Q29_midpoint'].head())\n",
    "print(round(dfg_filt['Q29_midpoint'].describe()))\n",
    "print(dfg_filt['Q29_midpoint'].unique())\n",
    "print(dfg_filt['Q29_midpoint'].nunique())"
   ]
  },
  {
   "cell_type": "markdown",
   "id": "983ce538",
   "metadata": {},
   "source": [
    "#### Gender pay gap visualizations"
   ]
  },
  {
   "cell_type": "code",
   "execution_count": null,
   "id": "b663e651",
   "metadata": {},
   "outputs": [],
   "source": [
    "plt.figure(figsize=(10, 7))\n",
    "\n",
    "# Create the box plot\n",
    "ax = sns.boxplot(\n",
    "    x='Q3',             # Categorical variable (Gender) on the x-axis\n",
    "    y='Q29_midpoint',   # Numerical variable (Salary Midpoint) on the y-axis\n",
    "    data=dfg_filt,      \n",
    "    palette='pastel',   \n",
    "    order=gender_order \n",
    ")\n",
    "\n",
    "# Add title and labels\n",
    "plt.title('Salary Midpoint Distribution by Gender', fontsize=16)\n",
    "plt.xlabel('Gender', fontsize=12)\n",
    "plt.ylabel('Salary Midpoint ($)', fontsize=12)\n",
    "plt.xticks(rotation=0, ha='right')\n",
    "plt.grid(axis='y', linestyle='--', alpha=0.7)\n",
    "plt.tight_layout()\n",
    "plt.show()\n",
    "\n",
    "#Statistics\n",
    "print(\"\\nMedian Salary Midpoint by Gender:\")\n",
    "print(dfg_filt.groupby('Q3')['Q29_midpoint'].median().sort_values(ascending=False))\n",
    "\n",
    "print(\"\\nMean Salary Midpoint by Gender:\")\n",
    "print(round(dfg_filt.groupby('Q3')['Q29_midpoint'].mean().sort_values(ascending=False),))"
   ]
  },
  {
   "cell_type": "code",
   "execution_count": null,
   "id": "db6824cd",
   "metadata": {},
   "outputs": [],
   "source": [
    "median_salary_by_gender = dfg_filt.groupby('Q3')['Q29_midpoint'].median().sort_values(ascending=False)\n",
    "\n",
    "plt.figure(figsize=(8, 6))\n",
    "ax = sns.barplot(\n",
    "    x=median_salary_by_gender.index, # Genders on the x-axis\n",
    "    y=median_salary_by_gender.values, # Median salaries on the y-axis\n",
    "    palette='viridis'\n",
    ")\n",
    "\n",
    "# Add value labels on top of bars\n",
    "for p in ax.patches:\n",
    "    ax.annotate(f\"${p.get_height():,.0f}\", (p.get_x() + p.get_width() / 2., p.get_height()),\n",
    "                ha='center', va='center', xytext=(0, 10), textcoords='offset points', fontsize=10)\n",
    "\n",
    "plt.title('Median Salary Midpoint by Gender', fontsize=16)\n",
    "plt.xlabel('Gender', fontsize=12)\n",
    "plt.ylabel('Median Salary Midpoint ($)', fontsize=12)\n",
    "plt.xticks(rotation=0)\n",
    "plt.tight_layout()\n",
    "plt.show()"
   ]
  },
  {
   "cell_type": "code",
   "execution_count": null,
   "id": "8631bb6d",
   "metadata": {},
   "outputs": [],
   "source": [
    "#Filter man and woman only\n",
    "dfg_wm = dfg_filt[dfg_filt['Q3'].isin(['Man', 'Woman'])].copy()\n",
    "\n",
    "#plot only man and woman\n",
    "\n",
    "plt.figure(figsize=(10, 7))\n",
    "\n",
    "# Create the box plot\n",
    "ax = sns.boxplot(\n",
    "    x='Q3',             # Categorical variable (Gender) on the x-axis\n",
    "    y='Q29_midpoint',   # Numerical variable (Salary Midpoint) on the y-axis\n",
    "    data=dfg_wm,      \n",
    "    palette='pastel',   \n",
    "    order=['Man', 'Woman']\n",
    ")\n",
    "\n",
    "# Add title and labels\n",
    "plt.title('Salary Midpoint Distribution by Gender', fontsize=16)\n",
    "plt.xlabel('Gender', fontsize=12)\n",
    "plt.ylabel('Salary Midpoint ($)', fontsize=12)\n",
    "plt.xticks(rotation=0, ha='center')\n",
    "plt.grid(axis='y', linestyle='--', alpha=0.7)\n",
    "plt.tight_layout()\n",
    "plt.show()\n",
    "\n",
    "#Statistics\n",
    "print(\"\\nMedian Salary Midpoint by Gender:\")\n",
    "print(dfg_wm.groupby('Q3')['Q29_midpoint'].median().sort_values(ascending=False))\n",
    "\n",
    "print(\"\\nMean Salary Midpoint by Gender:\")\n",
    "print(round(dfg_wm.groupby('Q3')['Q29_midpoint'].mean().sort_values(ascending=False),))"
   ]
  },
  {
   "cell_type": "code",
   "execution_count": null,
   "id": "06e929da",
   "metadata": {},
   "outputs": [],
   "source": [
    "# Convert the Series to a DataFrame\n",
    "median_salary_df = median_salary_by_gender.reset_index()\n",
    "\n",
    "# Rename the columns for clarity in the CSV\n",
    "median_salary_df.columns = ['Gender', 'Median Salary Midpoint']\n",
    "\n",
    "# Export to CSV\n",
    "median_salary_df.to_csv('data/outputs/tables_graphs/median_salary_by_gender.csv', index=False)"
   ]
  },
  {
   "cell_type": "markdown",
   "id": "762861f5",
   "metadata": {},
   "source": [
    "## Statistical Analysis\n",
    "### Chi-square test"
   ]
  },
  {
   "cell_type": "code",
   "execution_count": null,
   "id": "2580b697",
   "metadata": {},
   "outputs": [],
   "source": [
    "from scipy.stats import chi2_contingency"
   ]
  },
  {
   "cell_type": "markdown",
   "id": "e858f5b9",
   "metadata": {},
   "source": [
    "#### Crosstable: Man, Woman, Nonbinary"
   ]
  },
  {
   "cell_type": "code",
   "execution_count": null,
   "id": "61aa54c9",
   "metadata": {},
   "outputs": [],
   "source": [
    "crosstab_paygap = pd.crosstab(dfg_filt['Q29'], dfg_filt['Q3'])\n",
    "crosstab_paygap"
   ]
  },
  {
   "cell_type": "code",
   "execution_count": null,
   "id": "7472df4b",
   "metadata": {},
   "outputs": [],
   "source": [
    "sns.heatmap(crosstab_paygap, annot=False, cmap=\"Reds\", fmt=\"d\")"
   ]
  },
  {
   "cell_type": "markdown",
   "id": "dd6cbc73",
   "metadata": {},
   "source": [
    "#### Crosstab: only Man and Woman"
   ]
  },
  {
   "cell_type": "code",
   "execution_count": null,
   "id": "cb629ae4",
   "metadata": {},
   "outputs": [],
   "source": [
    "crosstab_paygap2 = pd.crosstab(dfg_wm['Q29'], dfg_wm['Q3'])"
   ]
  },
  {
   "cell_type": "markdown",
   "id": "b9f7211f",
   "metadata": {},
   "source": [
    "#### Chi-square test: gender x salary"
   ]
  },
  {
   "cell_type": "code",
   "execution_count": null,
   "id": "58dc31c4",
   "metadata": {},
   "outputs": [],
   "source": [
    "_, chi2_pvalue, _, _  = chi2_contingency(crosstab_paygap)\n",
    "print(float(chi2_pvalue))\n",
    "print(float(chi2_pvalue) < 0.05)"
   ]
  },
  {
   "cell_type": "code",
   "execution_count": null,
   "id": "e332cf80",
   "metadata": {},
   "outputs": [],
   "source": [
    "_, chi2_pvalue, _, _  = chi2_contingency(crosstab_paygap2)\n",
    "print(float(chi2_pvalue))\n",
    "print(float(chi2_pvalue) < 0.05)"
   ]
  },
  {
   "cell_type": "code",
   "execution_count": null,
   "id": "70b3958e",
   "metadata": {},
   "outputs": [],
   "source": [
    "sns.heatmap(crosstab_paygap2, annot=True, cmap=\"Reds\", fmt=\"d\", annot_kws={\"fontsize\": 8})"
   ]
  },
  {
   "cell_type": "code",
   "execution_count": null,
   "id": "7540ec5c",
   "metadata": {},
   "outputs": [],
   "source": [
    "#Show salary in asc order\n",
    "crosstab_ordered = crosstab_paygap2.reindex(salary_order)\n",
    "plt.figure(figsize=(4, 8))\n",
    "sns.heatmap(crosstab_ordered, annot=True, cmap=\"Reds\", fmt=\"d\", annot_kws={\"fontsize\": 8})"
   ]
  },
  {
   "cell_type": "markdown",
   "id": "3bedc5f2",
   "metadata": {},
   "source": [
    "#### Job title by gender"
   ]
  },
  {
   "cell_type": "code",
   "execution_count": null,
   "id": "9a215de5",
   "metadata": {},
   "outputs": [],
   "source": [
    "crosstab_job2 = pd.crosstab(dfg_wm['Q23'], dfg_wm['Q3'])\n",
    "crosstab_job2"
   ]
  },
  {
   "cell_type": "code",
   "execution_count": null,
   "id": "807bd446",
   "metadata": {},
   "outputs": [],
   "source": [
    "crosstab_job = pd.crosstab(dfg_filt['Q23'], dfg_filt['Q3'])\n",
    "crosstab_job"
   ]
  },
  {
   "cell_type": "code",
   "execution_count": null,
   "id": "37e55f33",
   "metadata": {},
   "outputs": [],
   "source": [
    "plt.figure(figsize=(4, 8))\n",
    "sns.heatmap(crosstab_job, annot=True, cmap=\"Reds\", fmt=\"d\", annot_kws={\"fontsize\": 8})"
   ]
  },
  {
   "cell_type": "code",
   "execution_count": null,
   "id": "2b5af4d6",
   "metadata": {},
   "outputs": [],
   "source": [
    "crosstab_job_prop = pd.crosstab(dfg_filt['Q23'], dfg_filt['Q3'], normalize='columns').reindex(columns=gender_order)\n",
    "\n",
    "plt.figure(figsize=(4, 8))\n",
    "sns.heatmap(crosstab_job_prop, annot=True, cmap=\"Blues\", fmt=\".1%\", annot_kws={\"fontsize\": 8})\n",
    "plt.xlabel('Gender', fontsize=8)\n",
    "plt.ylabel('Job Status', fontsize=8)\n",
    "plt.title('Job Status Proportions by Gender', fontsize=12)\n",
    "plt.tight_layout()\n",
    "plt.show()"
   ]
  }
 ],
 "metadata": {
  "kernelspec": {
   "display_name": "base",
   "language": "python",
   "name": "python3"
  },
  "language_info": {
   "codemirror_mode": {
    "name": "ipython",
    "version": 3
   },
   "file_extension": ".py",
   "mimetype": "text/x-python",
   "name": "python",
   "nbconvert_exporter": "python",
   "pygments_lexer": "ipython3",
   "version": "3.13.2"
  }
 },
 "nbformat": 4,
 "nbformat_minor": 5
}
